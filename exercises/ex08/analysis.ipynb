{
 "cells": [
  {
   "cell_type": "markdown",
   "metadata": {},
   "source": [
    "# Analysis for Continuous Improvement\n",
    "\n",
    "Author Name: Nathan Kern\n",
    "\n",
    "9-digit PID: 730382185\n",
    "\n",
    "Continuous Improvement embraces a belief there is _always room to make things better_. It is a mindset and process we value and practice in this course. In this assignment, you are able to practice continuous improvement and contribute to the design ideas of the course.\n",
    "\n",
    "## Brainstorming Ideas\n",
    "\n",
    "Reflect on your personal experiences and observations in COMP110 and **brainstorm modifications to the course that _create value_ beyond its current design**. When brainstorming, try not to be critical of the ideas you come up with regarding scale, stakeholders impacted, or for any other reasons. In the markdown cell below, brainstorm 3 to 5 ideas you think would create value for you.\n",
    "\n",
    "Each brainstormed idea should state a. the suggested change or addition, b. what the expected value created, and c. which specific stakeholders would benefit.  If helpful, expand on the following template \"The course should (state idea here) because it will (state value created here) for (insert stakeholders here).\"\n",
    "\n",
    "Example A: \"The course should use only examples from psychology experiments because it will be more relevant for students who are psychology majors.\"\n",
    "\n",
    "Example B: \"The course should not have post-lesson questions because they are not useful for most students in the class.\""
   ]
  },
  {
   "cell_type": "markdown",
   "metadata": {},
   "source": [
    "### Part 1. Creative Ideation\n",
    "\n",
    "1. \"The course should have practical coding exams rather than written ones because it is more relevant and a better way to test knowledge for students learning coding.\" \n",
    "2. \"The course should not use lesson assignments because they are not helpful for students in the class.\"\n",
    "3. \"The course should focus on coding assignments as a method to teach because it is a faster and more engaging way for students to learn coding.\"\n",
    "4. \"The course should not have quizzes because they only cause stress to students and give more work to staff.\"\n",
    "5. \"The course should teach the necessary parts of discrete math so students do not have to take the additional, very difficult class.\""
   ]
  },
  {
   "cell_type": "markdown",
   "metadata": {},
   "source": [
    "## Connecting with Available Data\n",
    "\n",
    "The data you have available for this analysis is limited to the anonymized course survey you and your peers filled out a few weeks ago. The data is found in the `survey.csv` file in this exercise directory. Each row represents an individual survey response. Each column has a description which can be found on the project write-up here: <https://22s.comp110.com/exercises/ex08.html>\n",
    "\n",
    "Review the list of available data and identify which one of your ideas _does not_, or is _least likely to_, have relevant data to support the analysis of your idea to create value. In the box below, identify which of your ideas lacks data and suggest how we might be able to collect this data in the future. One aspect of _continuous improvement_ is trying to avoid \"tunnel vision\" where possible improvements are not considered because there is no data available to analyze it. Identifying new data sources can unlock improvements!"
   ]
  },
  {
   "cell_type": "markdown",
   "metadata": {},
   "source": [
    "### Part 2. Identifying Missing Data\n",
    "\n",
    "1. Idea without sufficient data to analyze: \"The course should teach the necessary parts of discrete math so students do not have to take the additional, very difficult class.\"\n",
    "\n",
    "2. Suggestion for how to collect data to support this idea in the future: \"You could add a question to the survey to ask about student's experiences in other comp sci classes in order to define which classes are most difficult for students. It could also ask a question about student's interest in pursuing this idea.\""
   ]
  },
  {
   "cell_type": "markdown",
   "metadata": {},
   "source": [
    "## Choosing an Idea to Analyze\n",
    "\n",
    "Consider those of your ideas which _do_ seem likely to have relevant data to analyze. If none of your ideas do, spend a few minutes and brainstorm another idea or two with the added connection of data available on hand and add those ideas to your brainstormed ideas list.\n",
    "\n",
    "Select the one idea which you believe is _most valuable_ to analyze relative to the others and has data to support the analysis of. In the markdown cell for Part 3 below, identify the idea you are exploring and articulate why you believe it is most valuable (e.g. widest impact, biggest opportunity for improvement, simplest change for significant improvement, and so on)."
   ]
  },
  {
   "cell_type": "markdown",
   "metadata": {},
   "source": [
    "### Part 3. Choosing Your Analysis\n",
    "\n",
    "1. Idea to analyze with available data: \"The course should have practical coding exams and assignments rather than written ones because it is more relevant and a better way to build and test knowledge in students learning coding.\" \n",
    "\n",
    "2. This idea is more valuable than the others brainstormed because: \"It could define a possibly popular alternative to the quizzes and lesson quizzes required to do well in the class.\"\n"
   ]
  },
  {
   "cell_type": "markdown",
   "metadata": {},
   "source": [
    "## Your Analysis\n",
    "\n",
    "Before you begin analysis, a reminder that we do not expect the data to support everyone's ideas and you can complete this exercise for full credit even if the data does not clearly support your suggestion or even completely refutes it. What we are looking for is a logical attempt to explore the data using the techniques you have learned up until now in a way that _either_ supports, refutes, or does not have a clear result and then to reflect on your findings after the analysis.\n",
    "\n",
    "Using the utility functions you created for the previous exercise, you will continue with your analysis in the following part. Before you begin, refer to the rubric on the technical expectations of this section in the exercise write-up.\n",
    "\n",
    "In this section, you are expected to interleave code and markdown cells such that for each step of your analysis you are starting with an English description of what you are planning to do next in a markdown cell, followed by a Python cell that performs that step of the analysis."
   ]
  },
  {
   "cell_type": "markdown",
   "metadata": {},
   "source": [
    "### Part 4. Analysis\n",
    "\n",
    "We begin by changing some settings in the notebook to automatically reload changes to imported files."
   ]
  },
  {
   "cell_type": "code",
   "execution_count": 1,
   "metadata": {},
   "outputs": [],
   "source": [
    "%reload_ext autoreload\n",
    "%autoreload 2"
   ]
  },
  {
   "cell_type": "markdown",
   "metadata": {},
   "source": [
    "We continue by importing the helper functions from `data_utils`."
   ]
  },
  {
   "cell_type": "code",
   "execution_count": 28,
   "metadata": {},
   "outputs": [],
   "source": [
    "from data_utils import read_csv_rows, columnar, head, select, count, column_avg\n",
    "from tabulate import tabulate"
   ]
  },
  {
   "cell_type": "markdown",
   "metadata": {},
   "source": [
    "Next, ... (you take it from here and add additional code and markdown cells to read in the CSV file and process it as needed)"
   ]
  },
  {
   "cell_type": "markdown",
   "metadata": {},
   "source": [
    "This cell imports the data file being used."
   ]
  },
  {
   "cell_type": "code",
   "execution_count": 2,
   "metadata": {},
   "outputs": [],
   "source": [
    "SURVEY_DATA_CSV_FILE_PATH: str = \"../../data/survey.csv\""
   ]
  },
  {
   "cell_type": "markdown",
   "metadata": {},
   "source": [
    "This cell creates a row-based table from the imported .csv file. This cell uses read_csv_rows function."
   ]
  },
  {
   "cell_type": "code",
   "execution_count": 6,
   "metadata": {},
   "outputs": [],
   "source": [
    "data_rows: list[dict[str, str]] = read_csv_rows(SURVEY_DATA_CSV_FILE_PATH)"
   ]
  },
  {
   "cell_type": "markdown",
   "metadata": {},
   "source": [
    "This cell changes the table into a column based table from the previous row-based table. This cell uses the columnar function."
   ]
  },
  {
   "cell_type": "code",
   "execution_count": 10,
   "metadata": {},
   "outputs": [],
   "source": [
    "data_cols: dict[str, list[str]] = columnar(data_rows)"
   ]
  },
  {
   "cell_type": "markdown",
   "metadata": {},
   "source": [
    "This cell selects the columns from the table that will be used in this analysis. It then tabulates the first 5 rows of these columns to visualize what is being done.\n",
    "This cell uses the head and select functions."
   ]
  },
  {
   "cell_type": "code",
   "execution_count": 26,
   "metadata": {},
   "outputs": [
    {
     "data": {
      "text/html": [
       "<table>\n",
       "<thead>\n",
       "<tr><th style=\"text-align: right;\">  lsqs_effective</th><th style=\"text-align: right;\">  programming_effective</th><th style=\"text-align: right;\">  qz_effective</th></tr>\n",
       "</thead>\n",
       "<tbody>\n",
       "<tr><td style=\"text-align: right;\">               3</td><td style=\"text-align: right;\">                      7</td><td style=\"text-align: right;\">             5</td></tr>\n",
       "<tr><td style=\"text-align: right;\">               5</td><td style=\"text-align: right;\">                      5</td><td style=\"text-align: right;\">             5</td></tr>\n",
       "<tr><td style=\"text-align: right;\">               6</td><td style=\"text-align: right;\">                      7</td><td style=\"text-align: right;\">             7</td></tr>\n",
       "<tr><td style=\"text-align: right;\">               3</td><td style=\"text-align: right;\">                      5</td><td style=\"text-align: right;\">             5</td></tr>\n",
       "<tr><td style=\"text-align: right;\">               6</td><td style=\"text-align: right;\">                      6</td><td style=\"text-align: right;\">             6</td></tr>\n",
       "</tbody>\n",
       "</table>"
      ],
      "text/plain": [
       "'<table>\\n<thead>\\n<tr><th style=\"text-align: right;\">  lsqs_effective</th><th style=\"text-align: right;\">  programming_effective</th><th style=\"text-align: right;\">  qz_effective</th></tr>\\n</thead>\\n<tbody>\\n<tr><td style=\"text-align: right;\">               3</td><td style=\"text-align: right;\">                      7</td><td style=\"text-align: right;\">             5</td></tr>\\n<tr><td style=\"text-align: right;\">               5</td><td style=\"text-align: right;\">                      5</td><td style=\"text-align: right;\">             5</td></tr>\\n<tr><td style=\"text-align: right;\">               6</td><td style=\"text-align: right;\">                      7</td><td style=\"text-align: right;\">             7</td></tr>\\n<tr><td style=\"text-align: right;\">               3</td><td style=\"text-align: right;\">                      5</td><td style=\"text-align: right;\">             5</td></tr>\\n<tr><td style=\"text-align: right;\">               6</td><td style=\"text-align: right;\">                      6</td><td style=\"text-align: right;\">             6</td></tr>\\n</tbody>\\n</table>'"
      ]
     },
     "execution_count": 26,
     "metadata": {},
     "output_type": "execute_result"
    }
   ],
   "source": [
    "selected_data: dict[str, list[str]] = select(data_cols, [\"lsqs_effective\", \"programming_effective\", \"qz_effective\"])\n",
    "tabulate(head(selected_data, 5), selected_data.keys(), \"html\")"
   ]
  },
  {
   "cell_type": "markdown",
   "metadata": {},
   "source": [
    "This cell prints the count of the appearances of each value in the selected columns. This uses the count function."
   ]
  },
  {
   "cell_type": "code",
   "execution_count": 27,
   "metadata": {},
   "outputs": [
    {
     "name": "stdout",
     "output_type": "stream",
     "text": [
      "lsqs_counts: {'3': 39, '5': 156, '6': 165, '7': 158, '4': 74, '1': 8, '2': 20}\n",
      "programming_counts: {'7': 324, '5': 82, '6': 154, '4': 34, '2': 11, '3': 10, '1': 5}\n",
      "qz_counts: {'5': 148, '7': 148, '6': 140, '4': 79, '1': 24, '3': 50, '2': 31}\n"
     ]
    }
   ],
   "source": [
    "lsqs_counts: dict[str, int] = count(selected_data[\"lsqs_effective\"])\n",
    "print(f\"lsqs_counts: {lsqs_counts}\")\n",
    "programming_counts: dict[str, int] = count(selected_data[\"programming_effective\"])\n",
    "print(f\"programming_counts: {programming_counts}\")\n",
    "qz_counts: dict[str, int] = count(selected_data[\"qz_effective\"])\n",
    "print(f\"qz_counts: {qz_counts}\")"
   ]
  },
  {
   "cell_type": "markdown",
   "metadata": {},
   "source": [
    "This cell creates a table with the average value of each of the selected columns. This uses the column_avg function I created."
   ]
  },
  {
   "cell_type": "code",
   "execution_count": 69,
   "metadata": {},
   "outputs": [
    {
     "data": {
      "text/html": [
       "<table>\n",
       "<thead>\n",
       "<tr><th style=\"text-align: right;\">  lsqs_effective</th><th style=\"text-align: right;\">  programming_effective</th><th style=\"text-align: right;\">  qz_effective</th></tr>\n",
       "</thead>\n",
       "<tbody>\n",
       "<tr><td style=\"text-align: right;\">         5.38226</td><td style=\"text-align: right;\">                6.12097</td><td style=\"text-align: right;\">       5.10968</td></tr>\n",
       "</tbody>\n",
       "</table>"
      ],
      "text/plain": [
       "'<table>\\n<thead>\\n<tr><th style=\"text-align: right;\">  lsqs_effective</th><th style=\"text-align: right;\">  programming_effective</th><th style=\"text-align: right;\">  qz_effective</th></tr>\\n</thead>\\n<tbody>\\n<tr><td style=\"text-align: right;\">         5.38226</td><td style=\"text-align: right;\">                6.12097</td><td style=\"text-align: right;\">       5.10968</td></tr>\\n</tbody>\\n</table>'"
      ]
     },
     "execution_count": 69,
     "metadata": {},
     "output_type": "execute_result"
    }
   ],
   "source": [
    "selected_data_avgs: dict[str, list[float]] = column_avg(selected_data, [\"lsqs_effective\", \"programming_effective\", \"qz_effective\"])\n",
    "tabulate(selected_data_avgs, selected_data_avgs.keys(), \"html\")"
   ]
  },
  {
   "cell_type": "markdown",
   "metadata": {},
   "source": [
    "This creates a bar chart of the previous table."
   ]
  },
  {
   "cell_type": "code",
   "execution_count": 83,
   "metadata": {},
   "outputs": [
    {
     "ename": "TypeError",
     "evalue": "unsupported operand type(s) for +: 'int' and 'dict_values'",
     "output_type": "error",
     "traceback": [
      "\u001b[0;31m---------------------------------------------------------------------------\u001b[0m",
      "\u001b[0;31mTypeError\u001b[0m                                 Traceback (most recent call last)",
      "\u001b[1;32m/Users/nkern/Documents/COMP_110/comp110-22s-workspace/exercises/ex08/analysis.ipynb Cell 26'\u001b[0m in \u001b[0;36m<module>\u001b[0;34m\u001b[0m\n\u001b[1;32m      <a href='vscode-notebook-cell:/Users/nkern/Documents/COMP_110/comp110-22s-workspace/exercises/ex08/analysis.ipynb#ch0000032?line=5'>6</a>\u001b[0m y_pos \u001b[39m=\u001b[39m [\u001b[39m0\u001b[39m, \u001b[39m1\u001b[39m, \u001b[39m2\u001b[39m]  \u001b[39m# the order the labels will be arranged in bar chart\u001b[39;00m\n\u001b[1;32m      <a href='vscode-notebook-cell:/Users/nkern/Documents/COMP_110/comp110-22s-workspace/exercises/ex08/analysis.ipynb#ch0000032?line=6'>7</a>\u001b[0m performance \u001b[39m=\u001b[39m [selected_data_avgs\u001b[39m.\u001b[39mvalues()]\n\u001b[0;32m----> <a href='vscode-notebook-cell:/Users/nkern/Documents/COMP_110/comp110-22s-workspace/exercises/ex08/analysis.ipynb#ch0000032?line=8'>9</a>\u001b[0m plt\u001b[39m.\u001b[39;49mbar(y_pos, performance, align\u001b[39m=\u001b[39;49m\u001b[39m'\u001b[39;49m\u001b[39mcenter\u001b[39;49m\u001b[39m'\u001b[39;49m, alpha\u001b[39m=\u001b[39;49m\u001b[39m0.5\u001b[39;49m)\n\u001b[1;32m     <a href='vscode-notebook-cell:/Users/nkern/Documents/COMP_110/comp110-22s-workspace/exercises/ex08/analysis.ipynb#ch0000032?line=9'>10</a>\u001b[0m plt\u001b[39m.\u001b[39mxticks(y_pos, labels)\n\u001b[1;32m     <a href='vscode-notebook-cell:/Users/nkern/Documents/COMP_110/comp110-22s-workspace/exercises/ex08/analysis.ipynb#ch0000032?line=10'>11</a>\u001b[0m plt\u001b[39m.\u001b[39mylabel(\u001b[39m'\u001b[39m\u001b[39mUsage\u001b[39m\u001b[39m'\u001b[39m)\n",
      "File \u001b[0;32m~/Library/Python/3.10/lib/python/site-packages/matplotlib/pyplot.py:2387\u001b[0m, in \u001b[0;36mbar\u001b[0;34m(x, height, width, bottom, align, data, **kwargs)\u001b[0m\n\u001b[1;32m   <a href='file:///Users/nkern/Library/Python/3.10/lib/python/site-packages/matplotlib/pyplot.py?line=2382'>2383</a>\u001b[0m \u001b[39m@_copy_docstring_and_deprecators\u001b[39m(Axes\u001b[39m.\u001b[39mbar)\n\u001b[1;32m   <a href='file:///Users/nkern/Library/Python/3.10/lib/python/site-packages/matplotlib/pyplot.py?line=2383'>2384</a>\u001b[0m \u001b[39mdef\u001b[39;00m \u001b[39mbar\u001b[39m(\n\u001b[1;32m   <a href='file:///Users/nkern/Library/Python/3.10/lib/python/site-packages/matplotlib/pyplot.py?line=2384'>2385</a>\u001b[0m         x, height, width\u001b[39m=\u001b[39m\u001b[39m0.8\u001b[39m, bottom\u001b[39m=\u001b[39m\u001b[39mNone\u001b[39;00m, \u001b[39m*\u001b[39m, align\u001b[39m=\u001b[39m\u001b[39m'\u001b[39m\u001b[39mcenter\u001b[39m\u001b[39m'\u001b[39m,\n\u001b[1;32m   <a href='file:///Users/nkern/Library/Python/3.10/lib/python/site-packages/matplotlib/pyplot.py?line=2385'>2386</a>\u001b[0m         data\u001b[39m=\u001b[39m\u001b[39mNone\u001b[39;00m, \u001b[39m*\u001b[39m\u001b[39m*\u001b[39mkwargs):\n\u001b[0;32m-> <a href='file:///Users/nkern/Library/Python/3.10/lib/python/site-packages/matplotlib/pyplot.py?line=2386'>2387</a>\u001b[0m     \u001b[39mreturn\u001b[39;00m gca()\u001b[39m.\u001b[39;49mbar(\n\u001b[1;32m   <a href='file:///Users/nkern/Library/Python/3.10/lib/python/site-packages/matplotlib/pyplot.py?line=2387'>2388</a>\u001b[0m         x, height, width\u001b[39m=\u001b[39;49mwidth, bottom\u001b[39m=\u001b[39;49mbottom, align\u001b[39m=\u001b[39;49malign,\n\u001b[1;32m   <a href='file:///Users/nkern/Library/Python/3.10/lib/python/site-packages/matplotlib/pyplot.py?line=2388'>2389</a>\u001b[0m         \u001b[39m*\u001b[39;49m\u001b[39m*\u001b[39;49m({\u001b[39m\"\u001b[39;49m\u001b[39mdata\u001b[39;49m\u001b[39m\"\u001b[39;49m: data} \u001b[39mif\u001b[39;49;00m data \u001b[39mis\u001b[39;49;00m \u001b[39mnot\u001b[39;49;00m \u001b[39mNone\u001b[39;49;00m \u001b[39melse\u001b[39;49;00m {}), \u001b[39m*\u001b[39;49m\u001b[39m*\u001b[39;49mkwargs)\n",
      "File \u001b[0;32m~/Library/Python/3.10/lib/python/site-packages/matplotlib/__init__.py:1412\u001b[0m, in \u001b[0;36m_preprocess_data.<locals>.inner\u001b[0;34m(ax, data, *args, **kwargs)\u001b[0m\n\u001b[1;32m   <a href='file:///Users/nkern/Library/Python/3.10/lib/python/site-packages/matplotlib/__init__.py?line=1408'>1409</a>\u001b[0m \u001b[39m@functools\u001b[39m\u001b[39m.\u001b[39mwraps(func)\n\u001b[1;32m   <a href='file:///Users/nkern/Library/Python/3.10/lib/python/site-packages/matplotlib/__init__.py?line=1409'>1410</a>\u001b[0m \u001b[39mdef\u001b[39;00m \u001b[39minner\u001b[39m(ax, \u001b[39m*\u001b[39margs, data\u001b[39m=\u001b[39m\u001b[39mNone\u001b[39;00m, \u001b[39m*\u001b[39m\u001b[39m*\u001b[39mkwargs):\n\u001b[1;32m   <a href='file:///Users/nkern/Library/Python/3.10/lib/python/site-packages/matplotlib/__init__.py?line=1410'>1411</a>\u001b[0m     \u001b[39mif\u001b[39;00m data \u001b[39mis\u001b[39;00m \u001b[39mNone\u001b[39;00m:\n\u001b[0;32m-> <a href='file:///Users/nkern/Library/Python/3.10/lib/python/site-packages/matplotlib/__init__.py?line=1411'>1412</a>\u001b[0m         \u001b[39mreturn\u001b[39;00m func(ax, \u001b[39m*\u001b[39;49m\u001b[39mmap\u001b[39;49m(sanitize_sequence, args), \u001b[39m*\u001b[39;49m\u001b[39m*\u001b[39;49mkwargs)\n\u001b[1;32m   <a href='file:///Users/nkern/Library/Python/3.10/lib/python/site-packages/matplotlib/__init__.py?line=1413'>1414</a>\u001b[0m     bound \u001b[39m=\u001b[39m new_sig\u001b[39m.\u001b[39mbind(ax, \u001b[39m*\u001b[39margs, \u001b[39m*\u001b[39m\u001b[39m*\u001b[39mkwargs)\n\u001b[1;32m   <a href='file:///Users/nkern/Library/Python/3.10/lib/python/site-packages/matplotlib/__init__.py?line=1414'>1415</a>\u001b[0m     auto_label \u001b[39m=\u001b[39m (bound\u001b[39m.\u001b[39marguments\u001b[39m.\u001b[39mget(label_namer)\n\u001b[1;32m   <a href='file:///Users/nkern/Library/Python/3.10/lib/python/site-packages/matplotlib/__init__.py?line=1415'>1416</a>\u001b[0m                   \u001b[39mor\u001b[39;00m bound\u001b[39m.\u001b[39mkwargs\u001b[39m.\u001b[39mget(label_namer))\n",
      "File \u001b[0;32m~/Library/Python/3.10/lib/python/site-packages/matplotlib/axes/_axes.py:2395\u001b[0m, in \u001b[0;36mAxes.bar\u001b[0;34m(self, x, height, width, bottom, align, **kwargs)\u001b[0m\n\u001b[1;32m   <a href='file:///Users/nkern/Library/Python/3.10/lib/python/site-packages/matplotlib/axes/_axes.py?line=2391'>2392</a>\u001b[0m args \u001b[39m=\u001b[39m \u001b[39mzip\u001b[39m(left, bottom, width, height, color, edgecolor, linewidth,\n\u001b[1;32m   <a href='file:///Users/nkern/Library/Python/3.10/lib/python/site-packages/matplotlib/axes/_axes.py?line=2392'>2393</a>\u001b[0m            hatch)\n\u001b[1;32m   <a href='file:///Users/nkern/Library/Python/3.10/lib/python/site-packages/matplotlib/axes/_axes.py?line=2393'>2394</a>\u001b[0m \u001b[39mfor\u001b[39;00m l, b, w, h, c, e, lw, htch \u001b[39min\u001b[39;00m args:\n\u001b[0;32m-> <a href='file:///Users/nkern/Library/Python/3.10/lib/python/site-packages/matplotlib/axes/_axes.py?line=2394'>2395</a>\u001b[0m     r \u001b[39m=\u001b[39m mpatches\u001b[39m.\u001b[39;49mRectangle(\n\u001b[1;32m   <a href='file:///Users/nkern/Library/Python/3.10/lib/python/site-packages/matplotlib/axes/_axes.py?line=2395'>2396</a>\u001b[0m         xy\u001b[39m=\u001b[39;49m(l, b), width\u001b[39m=\u001b[39;49mw, height\u001b[39m=\u001b[39;49mh,\n\u001b[1;32m   <a href='file:///Users/nkern/Library/Python/3.10/lib/python/site-packages/matplotlib/axes/_axes.py?line=2396'>2397</a>\u001b[0m         facecolor\u001b[39m=\u001b[39;49mc,\n\u001b[1;32m   <a href='file:///Users/nkern/Library/Python/3.10/lib/python/site-packages/matplotlib/axes/_axes.py?line=2397'>2398</a>\u001b[0m         edgecolor\u001b[39m=\u001b[39;49me,\n\u001b[1;32m   <a href='file:///Users/nkern/Library/Python/3.10/lib/python/site-packages/matplotlib/axes/_axes.py?line=2398'>2399</a>\u001b[0m         linewidth\u001b[39m=\u001b[39;49mlw,\n\u001b[1;32m   <a href='file:///Users/nkern/Library/Python/3.10/lib/python/site-packages/matplotlib/axes/_axes.py?line=2399'>2400</a>\u001b[0m         label\u001b[39m=\u001b[39;49m\u001b[39m'\u001b[39;49m\u001b[39m_nolegend_\u001b[39;49m\u001b[39m'\u001b[39;49m,\n\u001b[1;32m   <a href='file:///Users/nkern/Library/Python/3.10/lib/python/site-packages/matplotlib/axes/_axes.py?line=2400'>2401</a>\u001b[0m         hatch\u001b[39m=\u001b[39;49mhtch,\n\u001b[1;32m   <a href='file:///Users/nkern/Library/Python/3.10/lib/python/site-packages/matplotlib/axes/_axes.py?line=2401'>2402</a>\u001b[0m         )\n\u001b[1;32m   <a href='file:///Users/nkern/Library/Python/3.10/lib/python/site-packages/matplotlib/axes/_axes.py?line=2402'>2403</a>\u001b[0m     r\u001b[39m.\u001b[39mupdate(kwargs)\n\u001b[1;32m   <a href='file:///Users/nkern/Library/Python/3.10/lib/python/site-packages/matplotlib/axes/_axes.py?line=2403'>2404</a>\u001b[0m     r\u001b[39m.\u001b[39mget_path()\u001b[39m.\u001b[39m_interpolation_steps \u001b[39m=\u001b[39m \u001b[39m100\u001b[39m\n",
      "File \u001b[0;32m~/Library/Python/3.10/lib/python/site-packages/matplotlib/patches.py:733\u001b[0m, in \u001b[0;36mRectangle.__init__\u001b[0;34m(self, xy, width, height, angle, **kwargs)\u001b[0m\n\u001b[1;32m    <a href='file:///Users/nkern/Library/Python/3.10/lib/python/site-packages/matplotlib/patches.py?line=730'>731</a>\u001b[0m \u001b[39mself\u001b[39m\u001b[39m.\u001b[39m_height \u001b[39m=\u001b[39m height\n\u001b[1;32m    <a href='file:///Users/nkern/Library/Python/3.10/lib/python/site-packages/matplotlib/patches.py?line=731'>732</a>\u001b[0m \u001b[39mself\u001b[39m\u001b[39m.\u001b[39mangle \u001b[39m=\u001b[39m \u001b[39mfloat\u001b[39m(angle)\n\u001b[0;32m--> <a href='file:///Users/nkern/Library/Python/3.10/lib/python/site-packages/matplotlib/patches.py?line=732'>733</a>\u001b[0m \u001b[39mself\u001b[39;49m\u001b[39m.\u001b[39;49m_convert_units()\n",
      "File \u001b[0;32m~/Library/Python/3.10/lib/python/site-packages/matplotlib/patches.py:744\u001b[0m, in \u001b[0;36mRectangle._convert_units\u001b[0;34m(self)\u001b[0m\n\u001b[1;32m    <a href='file:///Users/nkern/Library/Python/3.10/lib/python/site-packages/matplotlib/patches.py?line=741'>742</a>\u001b[0m y0 \u001b[39m=\u001b[39m \u001b[39mself\u001b[39m\u001b[39m.\u001b[39mconvert_yunits(\u001b[39mself\u001b[39m\u001b[39m.\u001b[39m_y0)\n\u001b[1;32m    <a href='file:///Users/nkern/Library/Python/3.10/lib/python/site-packages/matplotlib/patches.py?line=742'>743</a>\u001b[0m x1 \u001b[39m=\u001b[39m \u001b[39mself\u001b[39m\u001b[39m.\u001b[39mconvert_xunits(\u001b[39mself\u001b[39m\u001b[39m.\u001b[39m_x0 \u001b[39m+\u001b[39m \u001b[39mself\u001b[39m\u001b[39m.\u001b[39m_width)\n\u001b[0;32m--> <a href='file:///Users/nkern/Library/Python/3.10/lib/python/site-packages/matplotlib/patches.py?line=743'>744</a>\u001b[0m y1 \u001b[39m=\u001b[39m \u001b[39mself\u001b[39m\u001b[39m.\u001b[39mconvert_yunits(\u001b[39mself\u001b[39;49m\u001b[39m.\u001b[39;49m_y0 \u001b[39m+\u001b[39;49m \u001b[39mself\u001b[39;49m\u001b[39m.\u001b[39;49m_height)\n\u001b[1;32m    <a href='file:///Users/nkern/Library/Python/3.10/lib/python/site-packages/matplotlib/patches.py?line=744'>745</a>\u001b[0m \u001b[39mreturn\u001b[39;00m x0, y0, x1, y1\n",
      "\u001b[0;31mTypeError\u001b[0m: unsupported operand type(s) for +: 'int' and 'dict_values'"
     ]
    },
    {
     "data": {
      "image/png": "[encoded data removed]",
      "text/plain": [
       "<Figure size 432x288 with 1 Axes>"
      ]
     },
     "metadata": {
      "needs_background": "light"
     },
     "output_type": "display_data"
    }
   ],
   "source": [
    "import matplotlib.pyplot as plt\n",
    "import numpy as np\n",
    "import matplotlib.pyplot as plt\n",
    "\n",
    "labels = ['Lesson Questions Effective', 'Programming Effective', 'Quiz Effective']\n",
    "y_pos = [0, 1, 2]  # the order the labels will be arranged in bar chart\n",
    "performance = [selected_data_avgs[\"lsqs_effective\"][0], selected_data_avgs[\"programming_effective\"], selected_data_avgs[\"qz_effective\"]]\n",
    "\n",
    "plt.bar(y_pos, performance, align='center', alpha=0.5)\n",
    "plt.xticks(y_pos, labels)\n",
    "plt.ylabel('Usage')\n",
    "plt.title('Programming language usage')\n",
    "\n",
    "plt.show()"
   ]
  },
  {
   "cell_type": "markdown",
   "metadata": {},
   "source": [
    "## Conclusion\n",
    "\n",
    "In the following markdown cell, write a reflective conclusion given the analysis you performed and identify recommendations.\n",
    "\n",
    "If your analysis of the data supports your idea, state your recommendation for the change and summarize the data analysys results you found which support it. Additionally, describe any extensions or refinements to this idea which might be explored further. Finally, discuss the potential costs, trade-offs, or stakeholders who may be negatively impacted by this proposed change.\n",
    "\n",
    "If your analysis of the data is inconclusive, summarize why your data analysis results were inconclusive in the support of your idea. Additionally, describe what experimental idea implementation or additional data collection might help build more confidence in assessing your idea. Finally, discuss the potential costs, trade-offs, or stakeholders who may be negatively impacted by experimenting with your idea.\n",
    "\n",
    "Finally, if your analysis of the data does not support it, summarize your data analysis results and why it refutes your idea. Discuss the potential costs, trade-offs, or stakeholders who may be negatively impacted by this proposed change. If you disagree with the validity of the findings, describe why your idea still makes sense to implement and what alternative data would better support it. If you agree with the validity of the data analysis, describe what alternate ideas or extensions you would explore instead. "
   ]
  },
  {
   "cell_type": "markdown",
   "metadata": {},
   "source": [
    "### Part 5. Conclusion\n",
    "\n"
   ]
  }
 ],
 "metadata": {
  "interpreter": {
   "hash": "aee8b7b246df8f9039afb4144a1f6fd8d2ca17a180786b69acc140d282b71a49"
  },
  "kernelspec": {
   "display_name": "Python 3.10.2 64-bit",
   "language": "python",
   "name": "python3"
  },
  "language_info": {
   "codemirror_mode": {
    "name": "ipython",
    "version": 3
   },
   "file_extension": ".py",
   "mimetype": "text/x-python",
   "name": "python",
   "nbconvert_exporter": "python",
   "pygments_lexer": "ipython3",
   "version": "3.10.2"
  },
  "orig_nbformat": 4
 },
 "nbformat": 4,
 "nbformat_minor": 2
}
